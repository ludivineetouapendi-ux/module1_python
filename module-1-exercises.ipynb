{
 "cells": [
  {
   "cell_type": "markdown",
   "metadata": {},
   "source": [
    "# Module 1: Introduction to Python and Data Types\n",
    "\n",
    "Complete the following exercises to practice working with variables, primitive data types, and basic operators in Python."
   ]
  },
  {
   "cell_type": "markdown",
   "metadata": {},
   "source": [
    "## Exercise 1: Variable Initialization\n",
    "\n",
    "Create variables of different types and print their values and types."
   ]
  },
  {
   "cell_type": "code",
   "execution_count": 1,
   "metadata": {},
   "outputs": [
    {
     "name": "stdout",
     "output_type": "stream",
     "text": [
      "Age: 10\n"
     ]
    }
   ],
   "source": [
    "# TODO: Create an integer variable named 'age' with your age\n",
    "\n",
    "# TODO: Create a float variable named 'height' with your height in meters\n",
    "\n",
    "# TODO: Create a string variable named 'name' with your name\n",
    "\n",
    "# TODO: Create a boolean variable named 'is_student' and set it to True\n",
    "\n",
    "# Print all variables and their types\n",
    "# Example: print(f\"Age: {age}, Type: {type(age)}\")\n"
   ]
  },
  {
   "cell_type": "markdown",
   "metadata": {},
   "source": [
    "## Exercise 2: Basic Arithmetic Operations\n",
    "\n",
    "Perform basic arithmetic operations and print the results."
   ]
  },
  {
   "cell_type": "code",
   "execution_count": null,
   "metadata": {},
   "outputs": [],
   "source": [
    "# TODO: Create two variables 'a' and 'b' with numeric values\n",
    "\n",
    "# TODO: Perform addition, subtraction, multiplication, and division of a and b\n",
    "# Print the results of each operation\n",
    "\n",
    "# TODO: Calculate the remainder of a divided by b using the modulo operator\n",
    "\n",
    "# TODO: Calculate a to the power of b using the exponentiation operator\n"
   ]
  },
  {
   "cell_type": "markdown",
   "metadata": {},
   "source": [
    "## Exercise 3: String Operations\n",
    "\n",
    "Practice string concatenation and basic string methods."
   ]
  },
  {
   "cell_type": "code",
   "execution_count": null,
   "metadata": {},
   "outputs": [],
   "source": [
    "# TODO: Create two string variables 'first_name' and 'last_name'\n",
    "\n",
    "# TODO: Concatenate the two names to create a 'full_name' variable\n",
    "\n",
    "# TODO: Print the full name in uppercase\n",
    "\n",
    "# TODO: Print the length of the full name\n",
    "\n",
    "# TODO: Create a string with multiple words and split it into a list\n"
   ]
  },
  {
   "cell_type": "markdown",
   "metadata": {},
   "source": [
    "## Exercise 4: Type Conversion\n",
    "\n",
    "Practice converting between different data types."
   ]
  },
  {
   "cell_type": "code",
   "execution_count": null,
   "metadata": {},
   "outputs": [],
   "source": [
    "# TODO: Convert a string containing a number to an integer\n",
    "\n",
    "\n",
    "# TODO: Convert a float to an integer\n",
    "\n",
    "# TODO: Convert an integer to a float\n",
    "\n",
    "# TODO: Convert a number (integer or float) to a string\n",
    "\n",
    "# Print all converted values and their new types\n"
   ]
  },
  {
   "cell_type": "markdown",
   "metadata": {},
   "source": [
    "## Exercise 5: Boolean Operations\n",
    "\n",
    "Practice using boolean operators and comparison operators."
   ]
  },
  {
   "cell_type": "code",
   "execution_count": null,
   "metadata": {},
   "outputs": [],
   "source": [
    "# TODO: Create two boolean variables\n",
    "\n",
    "# TODO: Perform AND, OR, and NOT operations on these variables\n",
    "# Print the results\n",
    "\n",
    "# TODO: Create two numeric variables and use comparison operators\n",
    "# (>, <, >=, <=, ==, !=) to compare them\n",
    "# Print the results of these comparisons\n"
   ]
  }
 ],
 "metadata": {
  "kernelspec": {
   "display_name": "Python 3 (ipykernel)",
   "language": "python",
   "name": "python3"
  },
  "language_info": {
   "codemirror_mode": {
    "name": "ipython",
    "version": 3
   },
   "file_extension": ".py",
   "mimetype": "text/x-python",
   "name": "python",
   "nbconvert_exporter": "python",
   "pygments_lexer": "ipython3",
   "version": "3.12.4"
  }
 },
 "nbformat": 4,
 "nbformat_minor": 4
}
